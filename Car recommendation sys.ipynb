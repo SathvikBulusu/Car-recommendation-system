{
 "cells": [
  {
   "cell_type": "code",
   "execution_count": 1,
   "id": "01c81c33",
   "metadata": {},
   "outputs": [],
   "source": [
    "import pandas as pd\n",
    "from sklearn.tree import DecisionTreeRegressor\n",
    "from sklearn.preprocessing import LabelEncoder\n",
    "\n",
    "# Read the car data\n",
    "data = pd.read_csv(\"finaldata!!!.csv\")\n"
   ]
  },
  {
   "cell_type": "code",
   "execution_count": 2,
   "id": "5735821e",
   "metadata": {},
   "outputs": [],
   "source": [
    "# Identify categorical columns\n",
    "categorical_columns = [col for col in data.columns if data[col].dtype == \"object\"]\n",
    "\n",
    "# Encode categorical data using LabelEncoder\n",
    "le = LabelEncoder()\n",
    "for col in categorical_columns:\n",
    "    data[col] = le.fit_transform(data[col])\n"
   ]
  },
  {
   "cell_type": "code",
   "execution_count": 3,
   "id": "9f01c6c4",
   "metadata": {},
   "outputs": [
    {
     "data": {
      "text/plain": [
       "Body               int32\n",
       "Transmission       int32\n",
       "Fuel               int32\n",
       "Brand              int32\n",
       "Model              int32\n",
       "Price              int64\n",
       "Color              int32\n",
       "Length             int64\n",
       "Width              int64\n",
       "Height             int64\n",
       "Wheel Base         int64\n",
       "Gear Box           int32\n",
       "Seats              int64\n",
       "Cargo Volume       int64\n",
       "Max Torque At    float64\n",
       "dtype: object"
      ]
     },
     "execution_count": 3,
     "metadata": {},
     "output_type": "execute_result"
    }
   ],
   "source": [
    "data.dtypes"
   ]
  },
  {
   "cell_type": "code",
   "execution_count": 4,
   "id": "362bf3a8",
   "metadata": {},
   "outputs": [],
   "source": [
    "from sklearn.model_selection import train_test_split"
   ]
  },
  {
   "cell_type": "code",
   "execution_count": 5,
   "id": "54ff1369",
   "metadata": {},
   "outputs": [],
   "source": [
    "data_train,data_test=train_test_split(data,test_size=0.3,random_state=143)"
   ]
  },
  {
   "cell_type": "code",
   "execution_count": 6,
   "id": "0c0d33bd",
   "metadata": {},
   "outputs": [],
   "source": [
    "from sklearn.tree import DecisionTreeRegressor"
   ]
  },
  {
   "cell_type": "code",
   "execution_count": 7,
   "id": "fa2d2ce3",
   "metadata": {},
   "outputs": [],
   "source": [
    "X_train=data_train.drop(['Model'],axis=1)"
   ]
  },
  {
   "cell_type": "code",
   "execution_count": 8,
   "id": "293c9daa",
   "metadata": {},
   "outputs": [],
   "source": [
    "y_train=data_train['Model']"
   ]
  },
  {
   "cell_type": "code",
   "execution_count": 9,
   "id": "29a0e8bc",
   "metadata": {},
   "outputs": [],
   "source": [
    "X_test=data_test.drop(['Model'],axis=1)"
   ]
  },
  {
   "cell_type": "code",
   "execution_count": 10,
   "id": "184dc15a",
   "metadata": {},
   "outputs": [],
   "source": [
    "y_test=data_test['Model']"
   ]
  },
  {
   "cell_type": "code",
   "execution_count": 11,
   "id": "1305ff45",
   "metadata": {},
   "outputs": [],
   "source": [
    "dt=DecisionTreeRegressor()"
   ]
  },
  {
   "cell_type": "code",
   "execution_count": 12,
   "id": "48ec1c09",
   "metadata": {},
   "outputs": [
    {
     "data": {
      "text/html": [
       "<style>#sk-container-id-1 {color: black;}#sk-container-id-1 pre{padding: 0;}#sk-container-id-1 div.sk-toggleable {background-color: white;}#sk-container-id-1 label.sk-toggleable__label {cursor: pointer;display: block;width: 100%;margin-bottom: 0;padding: 0.3em;box-sizing: border-box;text-align: center;}#sk-container-id-1 label.sk-toggleable__label-arrow:before {content: \"▸\";float: left;margin-right: 0.25em;color: #696969;}#sk-container-id-1 label.sk-toggleable__label-arrow:hover:before {color: black;}#sk-container-id-1 div.sk-estimator:hover label.sk-toggleable__label-arrow:before {color: black;}#sk-container-id-1 div.sk-toggleable__content {max-height: 0;max-width: 0;overflow: hidden;text-align: left;background-color: #f0f8ff;}#sk-container-id-1 div.sk-toggleable__content pre {margin: 0.2em;color: black;border-radius: 0.25em;background-color: #f0f8ff;}#sk-container-id-1 input.sk-toggleable__control:checked~div.sk-toggleable__content {max-height: 200px;max-width: 100%;overflow: auto;}#sk-container-id-1 input.sk-toggleable__control:checked~label.sk-toggleable__label-arrow:before {content: \"▾\";}#sk-container-id-1 div.sk-estimator input.sk-toggleable__control:checked~label.sk-toggleable__label {background-color: #d4ebff;}#sk-container-id-1 div.sk-label input.sk-toggleable__control:checked~label.sk-toggleable__label {background-color: #d4ebff;}#sk-container-id-1 input.sk-hidden--visually {border: 0;clip: rect(1px 1px 1px 1px);clip: rect(1px, 1px, 1px, 1px);height: 1px;margin: -1px;overflow: hidden;padding: 0;position: absolute;width: 1px;}#sk-container-id-1 div.sk-estimator {font-family: monospace;background-color: #f0f8ff;border: 1px dotted black;border-radius: 0.25em;box-sizing: border-box;margin-bottom: 0.5em;}#sk-container-id-1 div.sk-estimator:hover {background-color: #d4ebff;}#sk-container-id-1 div.sk-parallel-item::after {content: \"\";width: 100%;border-bottom: 1px solid gray;flex-grow: 1;}#sk-container-id-1 div.sk-label:hover label.sk-toggleable__label {background-color: #d4ebff;}#sk-container-id-1 div.sk-serial::before {content: \"\";position: absolute;border-left: 1px solid gray;box-sizing: border-box;top: 0;bottom: 0;left: 50%;z-index: 0;}#sk-container-id-1 div.sk-serial {display: flex;flex-direction: column;align-items: center;background-color: white;padding-right: 0.2em;padding-left: 0.2em;position: relative;}#sk-container-id-1 div.sk-item {position: relative;z-index: 1;}#sk-container-id-1 div.sk-parallel {display: flex;align-items: stretch;justify-content: center;background-color: white;position: relative;}#sk-container-id-1 div.sk-item::before, #sk-container-id-1 div.sk-parallel-item::before {content: \"\";position: absolute;border-left: 1px solid gray;box-sizing: border-box;top: 0;bottom: 0;left: 50%;z-index: -1;}#sk-container-id-1 div.sk-parallel-item {display: flex;flex-direction: column;z-index: 1;position: relative;background-color: white;}#sk-container-id-1 div.sk-parallel-item:first-child::after {align-self: flex-end;width: 50%;}#sk-container-id-1 div.sk-parallel-item:last-child::after {align-self: flex-start;width: 50%;}#sk-container-id-1 div.sk-parallel-item:only-child::after {width: 0;}#sk-container-id-1 div.sk-dashed-wrapped {border: 1px dashed gray;margin: 0 0.4em 0.5em 0.4em;box-sizing: border-box;padding-bottom: 0.4em;background-color: white;}#sk-container-id-1 div.sk-label label {font-family: monospace;font-weight: bold;display: inline-block;line-height: 1.2em;}#sk-container-id-1 div.sk-label-container {text-align: center;}#sk-container-id-1 div.sk-container {/* jupyter's `normalize.less` sets `[hidden] { display: none; }` but bootstrap.min.css set `[hidden] { display: none !important; }` so we also need the `!important` here to be able to override the default hidden behavior on the sphinx rendered scikit-learn.org. See: https://github.com/scikit-learn/scikit-learn/issues/21755 */display: inline-block !important;position: relative;}#sk-container-id-1 div.sk-text-repr-fallback {display: none;}</style><div id=\"sk-container-id-1\" class=\"sk-top-container\"><div class=\"sk-text-repr-fallback\"><pre>DecisionTreeRegressor()</pre><b>In a Jupyter environment, please rerun this cell to show the HTML representation or trust the notebook. <br />On GitHub, the HTML representation is unable to render, please try loading this page with nbviewer.org.</b></div><div class=\"sk-container\" hidden><div class=\"sk-item\"><div class=\"sk-estimator sk-toggleable\"><input class=\"sk-toggleable__control sk-hidden--visually\" id=\"sk-estimator-id-1\" type=\"checkbox\" checked><label for=\"sk-estimator-id-1\" class=\"sk-toggleable__label sk-toggleable__label-arrow\">DecisionTreeRegressor</label><div class=\"sk-toggleable__content\"><pre>DecisionTreeRegressor()</pre></div></div></div></div></div>"
      ],
      "text/plain": [
       "DecisionTreeRegressor()"
      ]
     },
     "execution_count": 12,
     "metadata": {},
     "output_type": "execute_result"
    }
   ],
   "source": [
    "dt.fit(X_train,y_train)"
   ]
  },
  {
   "cell_type": "code",
   "execution_count": 13,
   "id": "cfcfbf9b",
   "metadata": {},
   "outputs": [],
   "source": [
    "y_pred=dt.predict(X_test)"
   ]
  },
  {
   "cell_type": "code",
   "execution_count": 14,
   "id": "c0b2f56a",
   "metadata": {},
   "outputs": [
    {
     "data": {
      "text/plain": [
       "array([305., 331., 200., ...,  55., 327., 146.])"
      ]
     },
     "execution_count": 14,
     "metadata": {},
     "output_type": "execute_result"
    }
   ],
   "source": [
    "y_pred"
   ]
  },
  {
   "cell_type": "code",
   "execution_count": 15,
   "id": "d8e45585",
   "metadata": {},
   "outputs": [
    {
     "data": {
      "text/plain": [
       "6533     305\n",
       "29655    331\n",
       "25268    200\n",
       "16879    213\n",
       "13018    350\n",
       "        ... \n",
       "21298    116\n",
       "25881    112\n",
       "11685     55\n",
       "27728    327\n",
       "12173    146\n",
       "Name: Model, Length: 10232, dtype: int32"
      ]
     },
     "execution_count": 15,
     "metadata": {},
     "output_type": "execute_result"
    }
   ],
   "source": [
    "y_test"
   ]
  },
  {
   "cell_type": "code",
   "execution_count": 16,
   "id": "9071cd0e",
   "metadata": {},
   "outputs": [],
   "source": [
    "nm=pd.DataFrame()"
   ]
  },
  {
   "cell_type": "code",
   "execution_count": 17,
   "id": "43309a92",
   "metadata": {},
   "outputs": [],
   "source": [
    "col=['Price','Length','Width','Height','Wheel Base','Seats','Cargo Volume','Max Torque At']\n"
   ]
  },
  {
   "cell_type": "code",
   "execution_count": 18,
   "id": "f0f9ae63",
   "metadata": {},
   "outputs": [
    {
     "data": {
      "text/html": [
       "<div>\n",
       "<style scoped>\n",
       "    .dataframe tbody tr th:only-of-type {\n",
       "        vertical-align: middle;\n",
       "    }\n",
       "\n",
       "    .dataframe tbody tr th {\n",
       "        vertical-align: top;\n",
       "    }\n",
       "\n",
       "    .dataframe thead th {\n",
       "        text-align: right;\n",
       "    }\n",
       "</style>\n",
       "<table border=\"1\" class=\"dataframe\">\n",
       "  <thead>\n",
       "    <tr style=\"text-align: right;\">\n",
       "      <th></th>\n",
       "      <th>Body</th>\n",
       "      <th>Transmission</th>\n",
       "      <th>Fuel</th>\n",
       "      <th>Brand</th>\n",
       "      <th>Price</th>\n",
       "      <th>Color</th>\n",
       "      <th>Length</th>\n",
       "      <th>Width</th>\n",
       "      <th>Height</th>\n",
       "      <th>Wheel Base</th>\n",
       "      <th>Gear Box</th>\n",
       "      <th>Seats</th>\n",
       "      <th>Cargo Volume</th>\n",
       "      <th>Max Torque At</th>\n",
       "    </tr>\n",
       "  </thead>\n",
       "  <tbody>\n",
       "    <tr>\n",
       "      <th>6533</th>\n",
       "      <td>8</td>\n",
       "      <td>1</td>\n",
       "      <td>1</td>\n",
       "      <td>41</td>\n",
       "      <td>876121</td>\n",
       "      <td>277</td>\n",
       "      <td>4413</td>\n",
       "      <td>1699</td>\n",
       "      <td>1466</td>\n",
       "      <td>2552</td>\n",
       "      <td>3</td>\n",
       "      <td>5</td>\n",
       "      <td>460</td>\n",
       "      <td>2000.0</td>\n",
       "    </tr>\n",
       "    <tr>\n",
       "      <th>29655</th>\n",
       "      <td>8</td>\n",
       "      <td>1</td>\n",
       "      <td>4</td>\n",
       "      <td>42</td>\n",
       "      <td>424669</td>\n",
       "      <td>621</td>\n",
       "      <td>3992</td>\n",
       "      <td>1677</td>\n",
       "      <td>1537</td>\n",
       "      <td>2450</td>\n",
       "      <td>3</td>\n",
       "      <td>5</td>\n",
       "      <td>419</td>\n",
       "      <td>3500.0</td>\n",
       "    </tr>\n",
       "    <tr>\n",
       "      <th>25268</th>\n",
       "      <td>8</td>\n",
       "      <td>1</td>\n",
       "      <td>4</td>\n",
       "      <td>29</td>\n",
       "      <td>559000</td>\n",
       "      <td>621</td>\n",
       "      <td>4490</td>\n",
       "      <td>1730</td>\n",
       "      <td>1485</td>\n",
       "      <td>2650</td>\n",
       "      <td>3</td>\n",
       "      <td>5</td>\n",
       "      <td>510</td>\n",
       "      <td>4000.0</td>\n",
       "    </tr>\n",
       "    <tr>\n",
       "      <th>16879</th>\n",
       "      <td>2</td>\n",
       "      <td>1</td>\n",
       "      <td>4</td>\n",
       "      <td>29</td>\n",
       "      <td>300000</td>\n",
       "      <td>619</td>\n",
       "      <td>3775</td>\n",
       "      <td>1680</td>\n",
       "      <td>1620</td>\n",
       "      <td>2360</td>\n",
       "      <td>3</td>\n",
       "      <td>5</td>\n",
       "      <td>236</td>\n",
       "      <td>4000.0</td>\n",
       "    </tr>\n",
       "    <tr>\n",
       "      <th>13018</th>\n",
       "      <td>6</td>\n",
       "      <td>1</td>\n",
       "      <td>1</td>\n",
       "      <td>43</td>\n",
       "      <td>1738000</td>\n",
       "      <td>554</td>\n",
       "      <td>4735</td>\n",
       "      <td>1830</td>\n",
       "      <td>1795</td>\n",
       "      <td>2750</td>\n",
       "      <td>3</td>\n",
       "      <td>7</td>\n",
       "      <td>300</td>\n",
       "      <td>2100.0</td>\n",
       "    </tr>\n",
       "  </tbody>\n",
       "</table>\n",
       "</div>"
      ],
      "text/plain": [
       "       Body  Transmission  Fuel  Brand    Price  Color  Length  Width  Height  \\\n",
       "6533      8             1     1     41   876121    277    4413   1699    1466   \n",
       "29655     8             1     4     42   424669    621    3992   1677    1537   \n",
       "25268     8             1     4     29   559000    621    4490   1730    1485   \n",
       "16879     2             1     4     29   300000    619    3775   1680    1620   \n",
       "13018     6             1     1     43  1738000    554    4735   1830    1795   \n",
       "\n",
       "       Wheel Base  Gear Box  Seats  Cargo Volume  Max Torque At  \n",
       "6533         2552         3      5           460         2000.0  \n",
       "29655        2450         3      5           419         3500.0  \n",
       "25268        2650         3      5           510         4000.0  \n",
       "16879        2360         3      5           236         4000.0  \n",
       "13018        2750         3      7           300         2100.0  "
      ]
     },
     "execution_count": 18,
     "metadata": {},
     "output_type": "execute_result"
    }
   ],
   "source": [
    "X_test.head()"
   ]
  },
  {
   "cell_type": "code",
   "execution_count": 19,
   "id": "779590df",
   "metadata": {},
   "outputs": [],
   "source": [
    "col1=[8,1,1,41,876521,247,4463.0,1649.0,1466.0,2552.0,3,5.0,440.0,2000.0]"
   ]
  },
  {
   "cell_type": "code",
   "execution_count": 23,
   "id": "a2a5f7f2",
   "metadata": {},
   "outputs": [
    {
     "name": "stdout",
     "output_type": "stream",
     "text": [
      "   Body  Transmission  Fuel  Brand  Price  Color  Length   Width  Height  \\\n",
      "0     8             1     4     42  54521    867  4516.0  2020.0  1346.0   \n",
      "\n",
      "   Wheel Base  Gear Box  Seats  Cargo Volume  Max Torque At  \n",
      "0      3452.0         3    5.0         130.0          230.0  \n"
     ]
    }
   ],
   "source": [
    "\n",
    "# Provided data\n",
    "col1 = [8, 1, 4, 42, 54521, 867, 4516.0, 2020.0, 1346.0, 3452.0, 3, 5.0, 130.0, 230.0]\n",
    "\n",
    "# Column names\n",
    "columns = [\n",
    "    'Body', 'Transmission', 'Fuel', 'Brand', 'Price', 'Color',\n",
    "    'Length', 'Width', 'Height', 'Wheel Base', 'Gear Box', 'Seats',\n",
    "    'Cargo Volume', 'Max Torque At'\n",
    "]\n",
    "\n",
    "# Constructing the DataFrame\n",
    "data = [col1]  # Creating a list of lists (assuming col1 is one row of data)\n",
    "df = pd.DataFrame(data, columns=columns)\n",
    "print(df)\n"
   ]
  },
  {
   "cell_type": "code",
   "execution_count": 24,
   "id": "e15d4386",
   "metadata": {},
   "outputs": [],
   "source": [
    "y_1=dt.predict(df)"
   ]
  },
  {
   "cell_type": "code",
   "execution_count": 25,
   "id": "8c00b7be",
   "metadata": {},
   "outputs": [
    {
     "data": {
      "text/plain": [
       "array([312.])"
      ]
     },
     "execution_count": 25,
     "metadata": {},
     "output_type": "execute_result"
    }
   ],
   "source": [
    "y_1"
   ]
  },
  {
   "cell_type": "code",
   "execution_count": null,
   "id": "ecea9b81",
   "metadata": {},
   "outputs": [],
   "source": []
  }
 ],
 "metadata": {
  "kernelspec": {
   "display_name": "Python 3 (ipykernel)",
   "language": "python",
   "name": "python3"
  },
  "language_info": {
   "codemirror_mode": {
    "name": "ipython",
    "version": 3
   },
   "file_extension": ".py",
   "mimetype": "text/x-python",
   "name": "python",
   "nbconvert_exporter": "python",
   "pygments_lexer": "ipython3",
   "version": "3.11.5"
  }
 },
 "nbformat": 4,
 "nbformat_minor": 5
}
